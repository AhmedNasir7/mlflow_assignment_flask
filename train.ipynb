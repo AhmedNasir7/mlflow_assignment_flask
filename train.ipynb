{
 "cells": [
  {
   "cell_type": "code",
   "execution_count": null,
   "metadata": {
    "colab": {
     "base_uri": "https://localhost:8080/"
    },
    "collapsed": true,
    "executionInfo": {
     "elapsed": 24718,
     "status": "ok",
     "timestamp": 1761379440965,
     "user": {
      "displayName": "AHMED NASIR",
      "userId": "02437812113707911987"
     },
     "user_tz": -300
    },
    "id": "sLkVUMD6ZL_V",
    "outputId": "5445f58c-89b0-4e41-add2-f7076b469079"
   },
   "outputs": [],
   "source": [
    "%pip install -q dagshub 'mlflow>=2,<3'"
   ]
  },
  {
   "cell_type": "code",
   "execution_count": null,
   "metadata": {
    "colab": {
     "base_uri": "https://localhost:8080/",
     "height": 65
    },
    "collapsed": true,
    "executionInfo": {
     "elapsed": 1793,
     "status": "ok",
     "timestamp": 1761386022758,
     "user": {
      "displayName": "AHMED NASIR",
      "userId": "02437812113707911987"
     },
     "user_tz": -300
    },
    "id": "ooNuxFZCYGCR",
    "outputId": "2746debb-850e-4cb0-b611-2da37935ec83"
   },
   "outputs": [],
   "source": [
    "import dagshub\n",
    "dagshub.init(repo_owner='AhmedNasir7', repo_name='mlflow_assignment_flask', mlflow=True)"
   ]
  },
  {
   "cell_type": "code",
   "execution_count": null,
   "metadata": {
    "colab": {
     "base_uri": "https://localhost:8080/"
    },
    "executionInfo": {
     "elapsed": 6154,
     "status": "ok",
     "timestamp": 1761386033728,
     "user": {
      "displayName": "AHMED NASIR",
      "userId": "02437812113707911987"
     },
     "user_tz": -300
    },
    "id": "rs3Ozu1_kEET",
    "outputId": "e9e3bb0b-0b61-4956-9614-bb8aa3df8d31"
   },
   "outputs": [],
   "source": [
    "!pip install kagglehub\n"
   ]
  },
  {
   "cell_type": "code",
   "execution_count": null,
   "metadata": {
    "colab": {
     "base_uri": "https://localhost:8080/"
    },
    "executionInfo": {
     "elapsed": 1145,
     "status": "ok",
     "timestamp": 1761386036681,
     "user": {
      "displayName": "AHMED NASIR",
      "userId": "02437812113707911987"
     },
     "user_tz": -300
    },
    "id": "56Q1a0Kzk3hb",
    "outputId": "c127f8c8-e283-4e97-fa55-2b0c163cdc1f"
   },
   "outputs": [],
   "source": [
    "import kagglehub\n",
    "\n",
    "path = kagglehub.dataset_download(\"tanlikesmath/the-oxfordiiit-pet-dataset\")\n",
    "print(\"Path to dataset files:\", path)"
   ]
  },
  {
   "cell_type": "code",
   "execution_count": null,
   "metadata": {
    "colab": {
     "base_uri": "https://localhost:8080/"
    },
    "executionInfo": {
     "elapsed": 9,
     "status": "ok",
     "timestamp": 1761386043726,
     "user": {
      "displayName": "AHMED NASIR",
      "userId": "02437812113707911987"
     },
     "user_tz": -300
    },
    "id": "r4--SAwdk_bJ",
    "outputId": "7c9209cb-2bfc-453b-bf4c-64252c429928"
   },
   "outputs": [],
   "source": [
    "import pathlib\n",
    "\n",
    "data_dir = pathlib.Path(path)\n",
    "print(\"Data directory exists?\", data_dir.exists())\n",
    "print(\"Contents:\", list(data_dir.iterdir())[:10])\n"
   ]
  },
  {
   "cell_type": "code",
   "execution_count": null,
   "metadata": {
    "colab": {
     "base_uri": "https://localhost:8080/"
    },
    "executionInfo": {
     "elapsed": 16030,
     "status": "ok",
     "timestamp": 1761386061140,
     "user": {
      "displayName": "AHMED NASIR",
      "userId": "02437812113707911987"
     },
     "user_tz": -300
    },
    "id": "WIQOQm4JlDK_",
    "outputId": "c55593e0-d6b0-43c7-bf84-aca05b830cb3"
   },
   "outputs": [],
   "source": [
    "import tensorflow as tf\n",
    "\n",
    "train_ds = tf.keras.utils.image_dataset_from_directory(\n",
    "    data_dir / \"images\",\n",
    "    validation_split=0.2,\n",
    "    subset=\"training\",\n",
    "    seed=42,\n",
    "    image_size=(224, 224),\n",
    "    batch_size=32\n",
    ")\n",
    "\n",
    "val_ds = tf.keras.utils.image_dataset_from_directory(\n",
    "    data_dir / \"images\",\n",
    "    validation_split=0.2,\n",
    "    subset=\"validation\",\n",
    "    seed=42,\n",
    "    image_size=(224, 224),\n",
    "    batch_size=32\n",
    ")\n"
   ]
  },
  {
   "cell_type": "code",
   "execution_count": 45,
   "metadata": {
    "executionInfo": {
     "elapsed": 8,
     "status": "ok",
     "timestamp": 1761386079977,
     "user": {
      "displayName": "AHMED NASIR",
      "userId": "02437812113707911987"
     },
     "user_tz": -300
    },
    "id": "Hk6ieuEjlYLf"
   },
   "outputs": [],
   "source": [
    "import tensorflow as tf\n",
    "from tensorflow.keras import layers, models\n",
    "import matplotlib.pyplot as plt\n"
   ]
  },
  {
   "cell_type": "code",
   "execution_count": 46,
   "metadata": {
    "executionInfo": {
     "elapsed": 57,
     "status": "ok",
     "timestamp": 1761386081459,
     "user": {
      "displayName": "AHMED NASIR",
      "userId": "02437812113707911987"
     },
     "user_tz": -300
    },
    "id": "NWWVWnBdmMhb"
   },
   "outputs": [],
   "source": [
    "import tensorflow as tf\n",
    "from tensorflow.keras import layers, models\n",
    "\n",
    "model = models.Sequential([\n",
    "    layers.Rescaling(1./255, input_shape=(224, 224, 3)),\n",
    "    layers.Conv2D(16, (3,3), activation='relu'),\n",
    "    layers.MaxPooling2D(),\n",
    "    layers.Conv2D(32, (3,3), activation='relu'),\n",
    "    layers.MaxPooling2D(),\n",
    "    layers.Flatten(),\n",
    "    layers.Dense(64, activation='relu'),\n",
    "    layers.Dense(1, activation='sigmoid')\n",
    "])\n",
    "\n",
    "model.compile(\n",
    "    optimizer='adam',\n",
    "    loss='binary_crossentropy',\n",
    "    metrics=['accuracy']\n",
    ")\n"
   ]
  },
  {
   "cell_type": "code",
   "execution_count": null,
   "metadata": {
    "colab": {
     "base_uri": "https://localhost:8080/"
    },
    "executionInfo": {
     "elapsed": 1587438,
     "status": "ok",
     "timestamp": 1761389347986,
     "user": {
      "displayName": "AHMED NASIR",
      "userId": "02437812113707911987"
     },
     "user_tz": -300
    },
    "id": "72JvmXSFmwGd",
    "outputId": "d4fab235-2012-4450-f26f-8fb020d3238a"
   },
   "outputs": [],
   "source": [
    "import mlflow\n",
    "import mlflow.tensorflow\n",
    "\n",
    "with mlflow.start_run():\n",
    "    model.fit(train_ds, validation_data=val_ds, epochs=5)\n",
    "\n",
    "    mlflow.log_param(\"epochs\", 5)\n",
    "    mlflow.log_param(\"optimizer\", \"adam\")\n",
    "\n",
    "    loss, acc = model.evaluate(val_ds)\n",
    "    mlflow.log_metric(\"val_loss\", loss)\n",
    "    mlflow.log_metric(\"val_accuracy\", acc)\n",
    "\n",
    "    mlflow.tensorflow.log_model(model, artifact_path=\"pet_model\")\n"
   ]
  }
 ],
 "metadata": {
  "colab": {
   "authorship_tag": "ABX9TyPYVEcaASWAJXr++SUuZh5H",
   "provenance": []
  },
  "kernelspec": {
   "display_name": "Python 3",
   "name": "python3"
  },
  "language_info": {
   "name": "python"
  }
 },
 "nbformat": 4,
 "nbformat_minor": 0
}
